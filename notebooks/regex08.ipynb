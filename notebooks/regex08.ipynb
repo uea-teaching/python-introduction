{
 "cells": [
  {
   "cell_type": "code",
   "execution_count": null,
   "metadata": {},
   "outputs": [],
   "source": [
    "import re\n",
    "from ipywidgets import interact, widgets\n",
    "from IPython.display import display"
   ]
  },
  {
   "cell_type": "code",
   "execution_count": null,
   "metadata": {},
   "outputs": [],
   "source": [
    "with open(\"data/BBC_news_home.html\") as fid:\n",
    "    data = fid.read()"
   ]
  },
  {
   "cell_type": "code",
   "execution_count": null,
   "metadata": {},
   "outputs": [],
   "source": [
    "pat = widgets.Text(\n",
    "    value='',\n",
    "    placeholder='type pattern here',\n",
    "    description='pattern:',\n",
    "    disabled=False\n",
    ")\n",
    "\n",
    "result = widgets.Textarea(\n",
    "    value='results',\n",
    "    rows=11,\n",
    "    disabled=False\n",
    ")\n",
    "\n",
    "def callback(wdgt):\n",
    "    pattern = re.compile(wdgt.value)\n",
    "    matches = pattern.findall(data)\n",
    "    n = len(matches)\n",
    "    more = [\"\" if n < 10 else f\"and {n-10} more...\"]\n",
    "    msg = \" \\n\".join(matches[:10] + more).encode().decode('unicode_escape')\n",
    "    result.value = msg if n else \"none found..\"\n",
    "\n",
    "pat.on_submit(callback)\n",
    "out = widgets.VBox([pat, result])\n",
    "display(out)"
   ]
  }
 ],
 "metadata": {
  "kernelspec": {
   "display_name": "Python 3",
   "language": "python",
   "name": "python3"
  },
  "language_info": {
   "codemirror_mode": {
    "name": "ipython",
    "version": 3
   },
   "file_extension": ".py",
   "mimetype": "text/x-python",
   "name": "python",
   "nbconvert_exporter": "python",
   "pygments_lexer": "ipython3",
   "version": "3.8.6"
  }
 },
 "nbformat": 4,
 "nbformat_minor": 4
}
